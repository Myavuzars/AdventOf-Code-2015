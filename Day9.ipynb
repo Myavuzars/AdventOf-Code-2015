{
 "cells": [
  {
   "cell_type": "markdown",
   "id": "pretty-strengthening",
   "metadata": {},
   "source": [
    "--- Day 9: All in a Single Night ---\n",
    "    \n",
    "Every year, Santa manages to deliver all of his presents in a single night.\n",
    "\n",
    "This year, however, he has some new locations to visit; his elves have provided him the distances between every pair of locations. He can start and end at any two (different) locations he wants, but he must visit each location exactly once. What is the shortest distance he can travel to achieve this?\n",
    "\n",
    "For example, given the following distances:\n",
    "\n",
    "London to Dublin = 464\n",
    "\n",
    "London to Belfast = 518\n",
    "\n",
    "Dublin to Belfast = 141\n",
    "\n",
    "The possible routes are therefore:\n",
    "\n",
    "Dublin -> London -> Belfast = 982\n",
    "\n",
    "London -> Dublin -> Belfast = 605\n",
    "\n",
    "London -> Belfast -> Dublin = 659\n",
    "\n",
    "Dublin -> Belfast -> London = 659\n",
    "\n",
    "Belfast -> Dublin -> London = 605\n",
    "\n",
    "Belfast -> London -> Dublin = 982\n",
    "\n",
    "The shortest of these is London -> Dublin -> Belfast = 605, and so the answer is 605 in this example.\n",
    "\n",
    "--- Part One ---\n",
    "\n",
    "What is the distance of the shortest route?\n",
    "\n",
    "--- Part Two ---\n",
    "\n",
    "The next year, just to show off, Santa decides to take the route with the longest distance instead.\n",
    "\n",
    "He can still start and end at any two (different) locations he wants, and he still must visit each location exactly once.\n",
    "\n",
    "For example, given the distances above, the longest route would be 982 via (for example) Dublin -> London -> Belfast.\n",
    "\n",
    "What is the distance of the longest route?"
   ]
  },
  {
   "cell_type": "code",
   "execution_count": 7,
   "id": "wanted-saver",
   "metadata": {},
   "outputs": [
    {
     "name": "stdout",
     "output_type": "stream",
     "text": [
      "('Faerun', 'Norrath', 129)\n",
      "('Faerun', 'Tristram', 58)\n",
      "('Faerun', 'AlphaCentauri', 13)\n",
      "('Faerun', 'Arbre', 24)\n",
      "('Faerun', 'Snowdin', 60)\n",
      "('Faerun', 'Tambi', 71)\n",
      "('Faerun', 'Straylight', 67)\n",
      "('Norrath', 'Tristram', 142)\n",
      "('Norrath', 'AlphaCentauri', 15)\n",
      "('Norrath', 'Arbre', 135)\n",
      "('Norrath', 'Snowdin', 75)\n",
      "('Norrath', 'Tambi', 82)\n",
      "('Norrath', 'Straylight', 54)\n",
      "('Tristram', 'AlphaCentauri', 118)\n",
      "('Tristram', 'Arbre', 122)\n",
      "('Tristram', 'Snowdin', 103)\n",
      "('Tristram', 'Tambi', 49)\n",
      "('Tristram', 'Straylight', 97)\n",
      "('AlphaCentauri', 'Arbre', 116)\n",
      "('AlphaCentauri', 'Snowdin', 12)\n",
      "('AlphaCentauri', 'Tambi', 18)\n",
      "('AlphaCentauri', 'Straylight', 91)\n",
      "('Arbre', 'Snowdin', 129)\n",
      "('Arbre', 'Tambi', 53)\n",
      "('Arbre', 'Straylight', 40)\n",
      "('Snowdin', 'Tambi', 15)\n",
      "('Snowdin', 'Straylight', 99)\n",
      "('Tambi', 'Straylight', 70)\n"
     ]
    }
   ],
   "source": [
    "with open (r\"C:\\Users\\myavu\\OneDrive\\Desktop\\Questions\\2015\\9.txt\") as file:\n",
    "    lines= file.read().splitlines()\n",
    "\n",
    "d = {}\n",
    "for line in lines:\n",
    "    s = line.split('=')\n",
    "    c1 = s[0].split('to')[0].strip()\n",
    "    c2 = s[0].split('to')[1].strip()\n",
    "    dist = int(s[1].strip())\n",
    "    if (c1 not in d):\n",
    "        d[c1] = {}\n",
    "    if (c2 not in d):\n",
    "        d[c2] = {}\n",
    "    d[c1][c2] = dist\n",
    "    d[c2][c1] = dist\n",
    "    print((c1,c2,dist))"
   ]
  },
  {
   "cell_type": "code",
   "execution_count": 8,
   "id": "posted-monthly",
   "metadata": {},
   "outputs": [],
   "source": [
    "from itertools import permutations  "
   ]
  },
  {
   "cell_type": "code",
   "execution_count": 9,
   "id": "ordered-forestry",
   "metadata": {},
   "outputs": [],
   "source": [
    "#PART ONE\n",
    "bestvalue = 9999999\n",
    "bestperm = []\n",
    "for perm in permutations(d.keys()):\n",
    "    total = 0\n",
    "    for i in range(len(perm)-1):\n",
    "        total += d[perm[i]][perm[i+1]]\n",
    "    if (total < bestvalue):\n",
    "        bestperm = perm\n",
    "        bestvalue = total\n",
    "  "
   ]
  },
  {
   "cell_type": "code",
   "execution_count": 10,
   "id": "particular-queen",
   "metadata": {},
   "outputs": [
    {
     "name": "stdout",
     "output_type": "stream",
     "text": [
      "('Norrath', 'Straylight', 'Arbre', 'Faerun', 'AlphaCentauri', 'Snowdin', 'Tambi', 'Tristram') 207\n"
     ]
    }
   ],
   "source": [
    "print(bestperm, bestvalue)"
   ]
  },
  {
   "cell_type": "code",
   "execution_count": 11,
   "id": "plastic-grill",
   "metadata": {},
   "outputs": [],
   "source": [
    "#PART TWO\n",
    "bestvalue = 0\n",
    "bestperm = []\n",
    "for perm in permutations(d.keys()):\n",
    "  total = 0\n",
    "  for i in range(len(perm)-1):\n",
    "    total += d[perm[i]][perm[i+1]]\n",
    "  if (total > bestvalue):\n",
    "    bestperm = perm\n",
    "    bestvalue = total"
   ]
  },
  {
   "cell_type": "code",
   "execution_count": 12,
   "id": "level-pharmaceutical",
   "metadata": {},
   "outputs": [
    {
     "name": "stdout",
     "output_type": "stream",
     "text": [
      "('Tambi', 'Faerun', 'Norrath', 'Tristram', 'AlphaCentauri', 'Arbre', 'Snowdin', 'Straylight') 804\n"
     ]
    }
   ],
   "source": [
    "print(bestperm, bestvalue)"
   ]
  },
  {
   "cell_type": "code",
   "execution_count": null,
   "id": "mediterranean-fishing",
   "metadata": {},
   "outputs": [],
   "source": []
  }
 ],
 "metadata": {
  "kernelspec": {
   "display_name": "Python 3",
   "language": "python",
   "name": "python3"
  },
  "language_info": {
   "codemirror_mode": {
    "name": "ipython",
    "version": 3
   },
   "file_extension": ".py",
   "mimetype": "text/x-python",
   "name": "python",
   "nbconvert_exporter": "python",
   "pygments_lexer": "ipython3",
   "version": "3.6.12"
  }
 },
 "nbformat": 4,
 "nbformat_minor": 5
}
