{
 "cells": [
  {
   "cell_type": "code",
   "execution_count": null,
   "id": "communist-adapter",
   "metadata": {},
   "outputs": [],
   "source": [
    "##2015 Q1.\n",
    "floorlevel ={}\n",
    "\n",
    "with open (r\"C:\\Users\\myavu\\OneDrive\\Desktop\\Questions\\2015\\1.txt\") as f:\n",
    "    lines = f.read().splitlines()\n",
    "#print(lines)\n",
    "count =0\n",
    "z=0\n",
    "for line in lines:\n",
    "    floor= line.split()[0]\n",
    "    for symbol in floor:\n",
    "        for i in symbol:\n",
    "            z +=1\n",
    "            if i=='(':\n",
    "                count +=1\n",
    "            else: \n",
    "                count -=1\n",
    "        floorlevel[z] =count\n",
    "\n",
    "for key,value in floorlevel.items():\n",
    "    if value==-1:\n",
    "        print(key)"
   ]
  }
 ],
 "metadata": {
  "kernelspec": {
   "display_name": "Python 3",
   "language": "python",
   "name": "python3"
  },
  "language_info": {
   "codemirror_mode": {
    "name": "ipython",
    "version": 3
   },
   "file_extension": ".py",
   "mimetype": "text/x-python",
   "name": "python",
   "nbconvert_exporter": "python",
   "pygments_lexer": "ipython3",
   "version": "3.6.12"
  }
 },
 "nbformat": 4,
 "nbformat_minor": 5
}
