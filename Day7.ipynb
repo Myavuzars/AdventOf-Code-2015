{
 "cells": [
  {
   "cell_type": "markdown",
   "id": "perfect-ethernet",
   "metadata": {},
   "source": [
    "--- Day 7: Some Assembly Required ---\n",
    "\n",
    "This year, Santa brought little Bobby Tables a set of wires and bitwise logic gates! Unfortunately, little Bobby is a little under the recommended age range, and he needs help assembling the circuit.\n",
    "\n",
    "Each wire has an identifier (some lowercase letters) and can carry a 16-bit signal (a number from 0 to 65535). A signal is provided to each wire by a gate, another wire, or some specific value. Each wire can only get a signal from one source, but can provide its signal to multiple destinations. A gate provides no signal until all of its inputs have a signal.\n",
    "\n",
    "The included instructions booklet describes how to connect the parts together: x AND y -> z means to connect wires x and y to an AND gate, and then connect its output to wire z.\n",
    "\n",
    "For example:\n",
    "\n",
    "123 -> x means that the signal 123 is provided to wire x.\n",
    "\n",
    "x AND y -> z means that the bitwise AND of wire x and wire y is provided to wire z.\n",
    "\n",
    "p LSHIFT 2 -> q means that the value from wire p is left-shifted by 2 and then provided to wire q.\n",
    "\n",
    "NOT e -> f means that the bitwise complement of the value from wire e is provided to wire f.\n",
    "\n",
    "Other possible gates include OR (bitwise OR) and RSHIFT (right-shift). If, for some reason, you'd like to emulate the circuit instead, almost all programming languages (for example, C, JavaScript, or Python) provide operators for these gates.\n",
    "\n",
    "For example, here is a simple circuit:\n",
    "\n",
    "123 -> x\n",
    "456 -> y\n",
    "x AND y -> d\n",
    "x OR y -> e\n",
    "x LSHIFT 2 -> f\n",
    "y RSHIFT 2 -> g\n",
    "NOT x -> h\n",
    "NOT y -> i\n",
    "After it is run, these are the signals on the wires:\n",
    "\n",
    "d: 72\n",
    "e: 507\n",
    "f: 492\n",
    "g: 114\n",
    "h: 65412\n",
    "i: 65079\n",
    "x: 123\n",
    "y: 456\n",
    "In little Bobby's kit's instructions booklet (provided as your puzzle input), what signal is ultimately provided to wire a?\n"
   ]
  },
  {
   "cell_type": "code",
   "execution_count": 1,
   "id": "equipped-place",
   "metadata": {},
   "outputs": [
    {
     "name": "stdout",
     "output_type": "stream",
     "text": [
      "[32768, 16384, 8192, 4096, 2048, 1024, 512, 256, 128, 64, 32, 16, 8, 4, 2, 1]\n"
     ]
    }
   ],
   "source": [
    "#Q7.\n",
    "import numpy as np\n",
    "logic = []\n",
    "for i in range(0,16):\n",
    "    logic.append(2**i)\n",
    "logic =sorted(logic, reverse=True)\n",
    "print(logic)\n"
   ]
  },
  {
   "cell_type": "code",
   "execution_count": 2,
   "id": "color-tension",
   "metadata": {},
   "outputs": [],
   "source": [
    "def bitwise(number):\n",
    "    if type(number)==int:\n",
    "        size=16\n",
    "        number_bit=np.zeros((size),dtype=np.int16)\n",
    "        i=0\n",
    "        for item in logic:\n",
    "            if number >= item:\n",
    "                number -=item      \n",
    "                number_bit[i]=1\n",
    "                i +=1\n",
    "            else:\n",
    "                i+=1\n",
    "        return((number_bit))\n",
    "x=bitwise(123)\n",
    "y=bitwise(456)\n",
    "\n",
    "###############\n",
    "\n",
    "def bit16():\n",
    "    size=16\n",
    "    num=np.zeros((size),dtype=np.int16)\n",
    "    return num\n",
    "def one():\n",
    "    num=bit16()\n",
    "    num[15]=1\n",
    "    return num\n"
   ]
  },
  {
   "cell_type": "code",
   "execution_count": 3,
   "id": "initial-coordinator",
   "metadata": {},
   "outputs": [],
   "source": [
    "def num_and (num1, num2):\n",
    "    size = 16\n",
    "    new_num = np.zeros((size),dtype=np.int16)\n",
    "    for i in range(0,size):\n",
    "        if (num1[i]==1) and (num2[i]==1):\n",
    "            new_num[i]=1\n",
    "    return new_num\n",
    "\n",
    "def num_or (num1, num2):\n",
    "    size=16\n",
    "    new_num=np.zeros((size),dtype=np.int16)\n",
    "    for i in range(0,size):\n",
    "        if num1[i]==1 or num2[i]==1:\n",
    "            new_num[i]=1\n",
    "    return new_num \n",
    "\n",
    "def num_not (num):\n",
    "    size=16\n",
    "    new_num=np.zeros((size),dtype=np.int16)\n",
    "    for i in range(0,size):\n",
    "        if num[i]==0:\n",
    "            new_num[i]=1\n",
    "    return new_num \n",
    "\n",
    "\n",
    "def r_shift(num,shift):\n",
    "    size=16\n",
    "    new_num=np.zeros((size),dtype=np.int16)\n",
    "    for i in range(0,size-shift):\n",
    "        new_num[i+shift]=num[i]\n",
    "    return new_num\n",
    "\n",
    "def l_shift(num, shift):\n",
    "    size=16\n",
    "    new_num=np.zeros((size),dtype=np.int16)\n",
    "    for i in range(shift,size):\n",
    "        new_num[i-shift]=num[i]\n",
    "    return new_num   "
   ]
  },
  {
   "cell_type": "code",
   "execution_count": 4,
   "id": "healthy-hypothesis",
   "metadata": {},
   "outputs": [],
   "source": [
    "with open(r\"C:\\Users\\myavu\\OneDrive\\Desktop\\Questions\\2015\\7.txt\") as f:\n",
    "    lines =f. read().splitlines()\n",
    "    \n",
    "###############\n",
    "\n",
    "def parsing(line):\n",
    "    command_table= [\"0\", \"0\", \"0\", \"0\"]\n",
    "    line= line.split(\" \")\n",
    "    if len(line)== 3:\n",
    "        command_table[0]=\"bitwise\"\n",
    "        command_table[1]=line[0]\n",
    "        command_table[2]=line[2]            \n",
    "    elif len(line)==4:\n",
    "        command_table[0]=line[0]\n",
    "        command_table[1]=line[1]\n",
    "        command_table[2]=line[3]\n",
    "    elif len(line)==5:\n",
    "        command_table[0]=line[1]\n",
    "        command_table[1]=line[0]\n",
    "        command_table[2]=line[2]\n",
    "        command_table[3]=line[4]\n",
    "    return command_table \n",
    "\n",
    "#for line in lines:\n",
    "    #command=parsing (line)\n",
    "    #print(command)\n"
   ]
  },
  {
   "cell_type": "code",
   "execution_count": 5,
   "id": "composite-robertson",
   "metadata": {},
   "outputs": [],
   "source": [
    "def find_firstnumbers(x):\n",
    "    my_dict={}\n",
    "    for line in x:        \n",
    "        command=parsing(line)\n",
    "        if command[0]==\"bitwise\":\n",
    "            try:         \n",
    "                my_dict[command[2]]=bitwise(int(command[1]))\n",
    "            except:                              \n",
    "                my_dict[command[1]]=bit16()\n",
    "                my_dict[command[2]]=bit16()\n",
    "        elif command[0]==\"AND\":\n",
    "            if command[1]=='1':\n",
    "                my_dict[command[1]]=one()\n",
    "                my_dict[command[3]]=bit16()\n",
    "            else:           \n",
    "                my_dict[command[3]]=bit16()\n",
    "        elif command[0]==\"OR\":\n",
    "            my_dict[command[3]]=bit16()\n",
    "        elif command[0]==\"NOT\":\n",
    "            my_dict[command[2]]=bit16()\n",
    "        elif command[0]==\"LSHIFT\":\n",
    "            my_dict[command[3]]=bit16()\n",
    "        elif command[0]==\"RSHIFT\":\n",
    "            my_dict[command[3]]=bit16()\n",
    "\n",
    "    return my_dict\n",
    "\n",
    "#####################\n",
    "#find_firstnumbers(lines)\n"
   ]
  },
  {
   "cell_type": "code",
   "execution_count": 6,
   "id": "geographic-geometry",
   "metadata": {},
   "outputs": [
    {
     "name": "stdout",
     "output_type": "stream",
     "text": [
      "339\n"
     ]
    }
   ],
   "source": [
    "lines_count=0\n",
    "for line in lines:\n",
    "    lines_count+=1\n",
    "    command=parsing (line)\n",
    "print(lines_count)\n"
   ]
  },
  {
   "cell_type": "code",
   "execution_count": 7,
   "id": "marine-essay",
   "metadata": {},
   "outputs": [],
   "source": [
    "def find_numbers(lines):\n",
    "    new_dict=find_firstnumbers(lines)\n",
    "    for i in range(339):\n",
    "        for line in lines:\n",
    "            command=parsing(line)\n",
    "            if command[0]==\"AND\":\n",
    "                new_dict[command[3]]=num_and(new_dict[command[1]], new_dict[command[2]])\n",
    "            elif command[0]==\"OR\":\n",
    "                new_dict[command[3]]=num_or(new_dict[command[1]], new_dict[command[2]])\n",
    "            elif command[0]==\"LSHIFT\":\n",
    "                new_dict[command[3]]=l_shift(new_dict[command[1]], int(command[2]))\n",
    "            elif command[0]==\"RSHIFT\":\n",
    "                new_dict[command[3]]=r_shift(new_dict[command[1]], int(command[2]))\n",
    "            elif command[0]==\"NOT\":\n",
    "                new_dict[command[2]]=num_not(new_dict[command[1]])\n",
    "    return new_dict\n",
    "\n",
    "numbers=find_numbers(lines)\n"
   ]
  },
  {
   "cell_type": "code",
   "execution_count": 8,
   "id": "fatty-telling",
   "metadata": {},
   "outputs": [
    {
     "name": "stdout",
     "output_type": "stream",
     "text": [
      "16076\n"
     ]
    }
   ],
   "source": [
    "def converter(numbers):\n",
    "    values=numbers.copy()\n",
    "    for key, value in dict.items(numbers):\n",
    "        val=0\n",
    "        number =np.flip(value) \n",
    "        for i in range(0,16):\n",
    "            val += (2**i) * number[i]\n",
    "        values[key]=val    \n",
    "    return values\n",
    "\n",
    "\n",
    "converter(numbers)\n",
    "\n",
    "#Note that lx=a\n",
    "print(converter(numbers)['lx'])\n"
   ]
  },
  {
   "cell_type": "markdown",
   "id": "pretty-friendly",
   "metadata": {},
   "source": [
    "--- Part Two ---\n",
    "\n",
    "Now, take the signal you got on wire a, override wire b to that signal, and reset the other wires (including wire a). What new signal is ultimately provided to wire a?"
   ]
  },
  {
   "cell_type": "code",
   "execution_count": 9,
   "id": "rural-temple",
   "metadata": {},
   "outputs": [
    {
     "name": "stdout",
     "output_type": "stream",
     "text": [
      "2797\n"
     ]
    }
   ],
   "source": [
    "with open(r\"C:\\Users\\myavu\\OneDrive\\Desktop\\Questions\\2015\\7b.txt\") as f:\n",
    "    lines =f. read().splitlines()\n",
    "    \n",
    "def new_count(x):    \n",
    "    numb=find_numbers(x)\n",
    "    new_result= converter(numb)\n",
    "    return new_result\n",
    "    \n",
    "    \n",
    "#Note that lx=a\n",
    "print(new_count(lines)['lx'])"
   ]
  },
  {
   "cell_type": "code",
   "execution_count": null,
   "id": "retired-theme",
   "metadata": {},
   "outputs": [],
   "source": []
  }
 ],
 "metadata": {
  "kernelspec": {
   "display_name": "Python 3",
   "language": "python",
   "name": "python3"
  },
  "language_info": {
   "codemirror_mode": {
    "name": "ipython",
    "version": 3
   },
   "file_extension": ".py",
   "mimetype": "text/x-python",
   "name": "python",
   "nbconvert_exporter": "python",
   "pygments_lexer": "ipython3",
   "version": "3.6.12"
  }
 },
 "nbformat": 4,
 "nbformat_minor": 5
}
