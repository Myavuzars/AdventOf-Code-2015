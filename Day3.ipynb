{
 "cells": [
  {
   "cell_type": "markdown",
   "id": "completed-addiction",
   "metadata": {},
   "source": [
    "--- Day 3: Perfectly Spherical Houses in a Vacuum ---\n",
    "\n",
    "Santa is delivering presents to an infinite two-dimensional grid of houses.\n",
    "\n",
    "He begins by delivering a present to the house at his starting location, and then an elf at the North Pole calls him via radio and tells him where to move next. Moves are always exactly one house to the north (^), south (v), east (>), or west (<). After each move, he delivers another present to the house at his new location.\n",
    "\n",
    "However, the elf back at the north pole has had a little too much eggnog, and so his directions are a little off, and Santa ends up visiting some houses more than once. How many houses receive at least one present?\n",
    "\n",
    "For example:\n",
    "\n",
    "- > delivers presents to 2 houses: one at the starting location, and one to the east.\n",
    "\n",
    "- ^>v< delivers presents to 4 houses in a square, including twice to the house at his starting/ending location.\n",
    "\n",
    "- ^v^v^v^v^v delivers a bunch of presents to some very lucky children at only 2 houses."
   ]
  },
  {
   "cell_type": "code",
   "execution_count": 1,
   "id": "responsible-second",
   "metadata": {},
   "outputs": [
    {
     "name": "stdout",
     "output_type": "stream",
     "text": [
      "2565\n"
     ]
    }
   ],
   "source": [
    "#Q3. PART I\n",
    "with open (r\"C:\\Users\\myavu\\OneDrive\\Desktop\\Questions\\2015\\3.txt\") as f:\n",
    "    line= f.read()\n",
    "\n",
    "def house_div(file):\n",
    "    elf= []\n",
    "    roboelf =[]\n",
    "    for count, item in enumerate(file):\n",
    "        if count%2==0:\n",
    "            elf.append(item)\n",
    "        else:\n",
    "            roboelf.append(item)\n",
    "    return elf, roboelf\n",
    "def house_location(file,houses):\n",
    "    houses =[(0,0)]\n",
    "    (x,y) = (0,0)\n",
    "    for sym in file:\n",
    "        if   sym == \">\": x +=1\n",
    "        elif sym == \"<\": x -=1\n",
    "        elif sym == \"v\": y -=1\n",
    "        elif sym == \"^\": y +=1\n",
    "        House=(x,y)\n",
    "        houses.append(House)  \n",
    "    return (set(houses))\n",
    "\n",
    "\n",
    "    \n",
    "def houses(file):\n",
    "    house=[]\n",
    "    visited_houses= house_location(file, house)\n",
    "    print(len(visited_houses))\n",
    "    \n",
    "    \n",
    "houses(line)\n"
   ]
  },
  {
   "cell_type": "markdown",
   "id": "favorite-stations",
   "metadata": {},
   "source": [
    "--- Part Two ---\n",
    "\n",
    "The next year, to speed up the process, Santa creates a robot version of himself, Robo-Santa, to deliver presents with him.\n",
    "\n",
    "Santa and Robo-Santa start at the same location (delivering two presents to the same starting house), then take turns moving based on instructions from the elf, who is eggnoggedly reading from the same script as the previous year.\n",
    "\n",
    "This year, how many houses receive at least one present?\n",
    "\n",
    "For example:\n",
    "\n",
    "^v delivers presents to 3 houses, because Santa goes north, and then Robo-Santa goes south.\n",
    "\n",
    "^>v< now delivers presents to 3 houses, and Santa and Robo-Santa end up back where they started.\n",
    "\n",
    "^v^v^v^v^v now delivers presents to 11 houses, with Santa going one direction and Robo-Santa going the other.\n"
   ]
  },
  {
   "cell_type": "code",
   "execution_count": 2,
   "id": "nervous-status",
   "metadata": {},
   "outputs": [
    {
     "name": "stdout",
     "output_type": "stream",
     "text": [
      "2639\n"
     ]
    }
   ],
   "source": [
    "#Part II\n",
    "def total_houses(file):\n",
    "    house1=[]\n",
    "    house2=[]\n",
    "    elf_houses=house_location(house_div(line)[0], house1)\n",
    "    roboelf_houses=house_location(house_div(line)[1], house2)\n",
    "    houses= elf_houses.union(roboelf_houses)\n",
    "    print(len(houses))\n",
    "    \n",
    "total_houses(line)\n"
   ]
  },
  {
   "cell_type": "code",
   "execution_count": null,
   "id": "adolescent-capital",
   "metadata": {},
   "outputs": [],
   "source": []
  },
  {
   "cell_type": "code",
   "execution_count": null,
   "id": "driving-annotation",
   "metadata": {},
   "outputs": [],
   "source": []
  },
  {
   "cell_type": "code",
   "execution_count": null,
   "id": "demographic-clear",
   "metadata": {},
   "outputs": [],
   "source": []
  },
  {
   "cell_type": "code",
   "execution_count": null,
   "id": "attached-harvest",
   "metadata": {},
   "outputs": [],
   "source": []
  }
 ],
 "metadata": {
  "kernelspec": {
   "display_name": "Python 3",
   "language": "python",
   "name": "python3"
  },
  "language_info": {
   "codemirror_mode": {
    "name": "ipython",
    "version": 3
   },
   "file_extension": ".py",
   "mimetype": "text/x-python",
   "name": "python",
   "nbconvert_exporter": "python",
   "pygments_lexer": "ipython3",
   "version": "3.6.12"
  }
 },
 "nbformat": 4,
 "nbformat_minor": 5
}
