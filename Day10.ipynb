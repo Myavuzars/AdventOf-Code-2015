{
 "cells": [
  {
   "cell_type": "markdown",
   "id": "functional-mouse",
   "metadata": {},
   "source": [
    "Today, the Elves are playing a game called look-and-say. They take turns making sequences by reading aloud the previous sequence and using that reading as the next sequence. For example, 211 is read as \"one two, two ones\", which becomes 1221 (1 2, 2 1s).\n",
    "\n",
    "Look-and-say sequences are generated iteratively, using the previous value as input for the next step. For each step, take the previous value, and replace each run of digits (like 111) with the number of digits (3) followed by the digit itself (1).\n",
    "\n",
    "For example:\n",
    "\n",
    "1 becomes 11 (1 copy of digit 1).\n",
    "\n",
    "11 becomes 21 (2 copies of digit 1).\n",
    "\n",
    "21 becomes 1211 (one 2 followed by one 1).\n",
    "\n",
    "1211 becomes 111221 (one 1, one 2, and two 1s).\n",
    "\n",
    "111221 becomes 312211 (three 1s, two 2s, and one 1).\n"
   ]
  },
  {
   "cell_type": "code",
   "execution_count": 163,
   "id": "growing-champagne",
   "metadata": {},
   "outputs": [
    {
     "data": {
      "text/plain": [
       "'312211'"
      ]
     },
     "execution_count": 163,
     "metadata": {},
     "output_type": "execute_result"
    }
   ],
   "source": [
    "a='111221'\n",
    "\n",
    "\n",
    "def findcount(x):\n",
    "    x=x+'m'\n",
    "    y=''\n",
    "    if len(x)==1:\n",
    "        y=y+'1'+x \n",
    "    else:    \n",
    "        #for i in range(len(x)-1):\n",
    "        while len(x)>1:\n",
    "            if x[0]!=x[1]:        \n",
    "                y=y+'1'+x[0]     \n",
    "                x=x[1:] \n",
    "            else:\n",
    "                count=1            \n",
    "                for k in range(len(x)-1):            \n",
    "                    if x[k]==x[k+1]:\n",
    "                        count+=1                \n",
    "                    else:\n",
    "                        y=y+str(count)+x[0]\n",
    "                        x=x[(count):]\n",
    "                        #print(\"x:\",x)\n",
    "                        #print(y)\n",
    "                        break\n",
    "               \n",
    "    return y  \n",
    "\n",
    "findcount(a)\n"
   ]
  },
  {
   "cell_type": "markdown",
   "id": "suburban-mandate",
   "metadata": {},
   "source": [
    "--- Part One ---\n",
    "\n",
    "Starting with the digits in your puzzle input, apply this process 40 times. What is the length of the result?\n"
   ]
  },
  {
   "cell_type": "code",
   "execution_count": 164,
   "id": "august-exposure",
   "metadata": {},
   "outputs": [
    {
     "name": "stdout",
     "output_type": "stream",
     "text": [
      "360154\n"
     ]
    }
   ],
   "source": [
    "a='1113122113'\n",
    "for i in range(40):\n",
    "    a=findcount(a)\n",
    "    \n",
    "print(len(a))"
   ]
  },
  {
   "cell_type": "markdown",
   "id": "honey-dodge",
   "metadata": {},
   "source": [
    "--- Part Two ---\n",
    "\n",
    "Neat, right? You might also enjoy hearing John Conway talking about this sequence (that's Conway of Conway's Game of Life fame).\n",
    "\n",
    "Now, starting again with the digits in your puzzle input, apply this process 50 times. What is the length of the new result?"
   ]
  },
  {
   "cell_type": "code",
   "execution_count": null,
   "id": "outer-institution",
   "metadata": {},
   "outputs": [],
   "source": [
    "a='1113122113'\n",
    "for i in range(50):\n",
    "    a=findcount(a)\n",
    "    \n",
    "print(len(a))"
   ]
  },
  {
   "cell_type": "code",
   "execution_count": null,
   "id": "german-albany",
   "metadata": {},
   "outputs": [],
   "source": []
  }
 ],
 "metadata": {
  "kernelspec": {
   "display_name": "Python 3",
   "language": "python",
   "name": "python3"
  },
  "language_info": {
   "codemirror_mode": {
    "name": "ipython",
    "version": 3
   },
   "file_extension": ".py",
   "mimetype": "text/x-python",
   "name": "python",
   "nbconvert_exporter": "python",
   "pygments_lexer": "ipython3",
   "version": "3.6.12"
  }
 },
 "nbformat": 4,
 "nbformat_minor": 5
}
