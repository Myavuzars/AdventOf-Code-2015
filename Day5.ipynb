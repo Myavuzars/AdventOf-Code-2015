{
 "cells": [
  {
   "cell_type": "markdown",
   "id": "democratic-fetish",
   "metadata": {},
   "source": [
    "--- Day 5: Doesn't He Have Intern-Elves For This? ---\n",
    "Santa needs help figuring out which strings in his text file are naughty or nice.\n",
    "\n",
    "A nice string is one with all of the following properties:\n",
    "\n",
    "It contains at least three vowels (aeiou only), like aei, xazegov, or aeiouaeiouaeiou.\n",
    "It contains at least one letter that appears twice in a row, like xx, abcdde (dd), or aabbccdd (aa, bb, cc, or dd).\n",
    "It does not contain the strings ab, cd, pq, or xy, even if they are part of one of the other requirements.\n",
    "For example:\n",
    "\n",
    "ugknbfddgicrmopn is nice because it has at least three vowels (u...i...o...), a double letter (...dd...), and none of the disallowed substrings.\n",
    "\n",
    "aaa is nice because it has at least three vowels and a double letter, even though the letters used by different rules overlap.\n",
    "jchzalrnumimnmhp is naughty because it has no double letter.\n",
    "\n",
    "haegwjzuvuyypxyu is naughty because it contains the string xy.\n",
    "\n",
    "dvszwmarrgswjxmb is naughty because it contains only one vowel.\n",
    "\n",
    "How many strings are nice?"
   ]
  },
  {
   "cell_type": "code",
   "execution_count": 1,
   "id": "polished-acoustic",
   "metadata": {},
   "outputs": [
    {
     "name": "stdout",
     "output_type": "stream",
     "text": [
      "258\n"
     ]
    }
   ],
   "source": [
    "#Q5.PART I:\n",
    "def isthisnice(x):\n",
    "    letterset =['ab', 'cd', 'pq', 'xy']\n",
    "    for lset in letterset:\n",
    "        if lset in x:\n",
    "            return False\n",
    "\n",
    "    wovels='aeiou'\n",
    "    wov_str= [c for c in x if c in wovels]\n",
    "    \n",
    "    if(len(wov_str)<3):\n",
    "        return False\n",
    "    \n",
    "\n",
    "    for i, c in enumerate(x):\n",
    "        if ((i>0) and (x[i]==x[i-1])):\n",
    "            return True\n",
    "    else:\n",
    "        return False           \n",
    "#######\n",
    "\n",
    "with open(r'C:\\Users\\myavu\\OneDrive\\Desktop\\Questions\\2015\\5.txt') as f:\n",
    "    lines =f.read().splitlines()\n",
    "#######\n",
    "\n",
    "count=0\n",
    "for line in lines:\n",
    "    if isthisnice(line):\n",
    "        count +=1\n",
    "    \n",
    "print(count)\n"
   ]
  },
  {
   "cell_type": "markdown",
   "id": "brown-reasoning",
   "metadata": {},
   "source": [
    "--- Part Two ---\n",
    "Realizing the error of his ways, Santa has switched to a better model of determining whether a string is naughty or nice. None of the old rules apply, as they are all clearly ridiculous.\n",
    "\n",
    "Now, a nice string is one with all of the following properties:\n",
    "\n",
    "It contains a pair of any two letters that appears at least twice in the string without overlapping, like xyxy (xy) or aabcdefgaa (aa), but not like aaa (aa, but it overlaps).\n",
    "It contains at least one letter which repeats with exactly one letter between them, like xyx, abcdefeghi (efe), or even aaa.\n",
    "For example:\n",
    "\n",
    "qjhvhtzxzqqjkmpb is nice because is has a pair that appears twice (qj) and a letter that repeats with exactly one letter between them (zxz).\n",
    "\n",
    "xxyxx is nice because it has a pair that appears twice and a letter that repeats with one between, even though the letters used by each rule overlap.\n",
    "\n",
    "uurcxstgmygtbstg is naughty because it has a pair (tg) but no repeat with a single letter between them.\n",
    "\n",
    "ieodomkazucvgmuy is naughty because it has a repeating letter with one between (odo), but no pair that appears twice.\n",
    "\n",
    "How many strings are nice under these new rules?"
   ]
  },
  {
   "cell_type": "code",
   "execution_count": 2,
   "id": "adult-dollar",
   "metadata": {},
   "outputs": [],
   "source": [
    "#Q5.PART II:\n",
    "def isthisnicetoo(x):\n",
    "    pairs=[]\n",
    "    for i, b in enumerate(x):\n",
    "        two= x[i:i+2]\n",
    "        rest =  x[i+2:]\n",
    "        if two in rest:\n",
    "            pairs.append(two)          \n",
    "    if (len(pairs)>0):\n",
    "        return True\n",
    "    else:\n",
    "        return False\n",
    "            \n",
    "            \n",
    "def isthistoo(x):\n",
    "    for i, b in enumerate(x):\n",
    "        if ((i>1) and x[i]==x[i-2]):    \n",
    "            return True\n",
    "    else:\n",
    "        return False\n",
    "\n",
    "    \n",
    "def counts(x):\n",
    "    if isthistoo(x) and isthisnicetoo(x):\n",
    "        return True"
   ]
  },
  {
   "cell_type": "code",
   "execution_count": 3,
   "id": "powered-gnome",
   "metadata": {},
   "outputs": [
    {
     "name": "stdout",
     "output_type": "stream",
     "text": [
      "53\n"
     ]
    }
   ],
   "source": [
    "############## \n",
    "    \n",
    "with open(r'C:\\Users\\myavu\\OneDrive\\Desktop\\Questions\\2015\\5.txt') as f:\n",
    "    lines =f.read().splitlines()\n",
    "###############\n",
    "count=0\n",
    "for line in lines:\n",
    "    if counts(line):\n",
    "        count +=1\n",
    "    \n",
    "print(count)\n",
    "        "
   ]
  },
  {
   "cell_type": "code",
   "execution_count": null,
   "id": "geographic-herald",
   "metadata": {},
   "outputs": [],
   "source": []
  },
  {
   "cell_type": "code",
   "execution_count": null,
   "id": "actual-devices",
   "metadata": {},
   "outputs": [],
   "source": []
  },
  {
   "cell_type": "code",
   "execution_count": null,
   "id": "renewable-logging",
   "metadata": {},
   "outputs": [],
   "source": []
  },
  {
   "cell_type": "code",
   "execution_count": null,
   "id": "piano-consciousness",
   "metadata": {},
   "outputs": [],
   "source": []
  },
  {
   "cell_type": "code",
   "execution_count": null,
   "id": "chubby-arabic",
   "metadata": {},
   "outputs": [],
   "source": []
  }
 ],
 "metadata": {
  "kernelspec": {
   "display_name": "Python 3",
   "language": "python",
   "name": "python3"
  },
  "language_info": {
   "codemirror_mode": {
    "name": "ipython",
    "version": 3
   },
   "file_extension": ".py",
   "mimetype": "text/x-python",
   "name": "python",
   "nbconvert_exporter": "python",
   "pygments_lexer": "ipython3",
   "version": "3.6.12"
  }
 },
 "nbformat": 4,
 "nbformat_minor": 5
}
