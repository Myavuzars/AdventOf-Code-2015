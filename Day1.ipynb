{
 "cells": [
  {
   "cell_type": "markdown",
   "id": "answering-omaha",
   "metadata": {},
   "source": [
    "--- Day 1: Not Quite Lisp ---\n",
    "    \n",
    "Santa was hoping for a white Christmas, but his weather machine's \"snow\" function is powered by stars, and he's fresh out! To save Christmas, he needs you to collect fifty stars by December 25th.\n",
    "\n",
    "Collect stars by helping Santa solve puzzles. Two puzzles will be made available on each day in the Advent calendar; the second puzzle is unlocked when you complete the first. Each puzzle grants one star. Good luck!\n",
    "\n",
    "Here's an easy puzzle to warm you up.\n",
    "\n",
    "Santa is trying to deliver presents in a large apartment building, but he can't find the right floor - the directions he got are a little confusing. He starts on the ground floor (floor 0) and then follows the instructions one character at a time.\n",
    "\n",
    "An opening parenthesis, (, means he should go up one floor, and a closing parenthesis, ), means he should go down one floor.\n",
    "\n",
    "The apartment building is very tall, and the basement is very deep; he will never find the top or bottom floors.\n",
    "\n",
    "For example:\n",
    "\n",
    "(()) and ()() both result in floor 0.\n",
    "\n",
    "((( and (()(()( both result in floor 3.\n",
    "               \n",
    "))((((( also results in floor 3.\n",
    "       \n",
    "()) and ))( both result in floor -1 (the first basement level).\n",
    "           \n",
    "))) and )())()) both result in floor -3.\n",
    " \n",
    "To what floor do the instructions take Santa?"
   ]
  },
  {
   "cell_type": "code",
   "execution_count": 1,
   "id": "governing-vaccine",
   "metadata": {},
   "outputs": [
    {
     "data": {
      "text/plain": [
       "138"
      ]
     },
     "execution_count": 1,
     "metadata": {},
     "output_type": "execute_result"
    }
   ],
   "source": [
    "#Q1. PART I:\n",
    "\n",
    "def floors(x):\n",
    "    count =0\n",
    "    for line in x:\n",
    "        line= line.split()[0]\n",
    "        for i in line:\n",
    "            if i=='(':\n",
    "                count +=1\n",
    "            else: \n",
    "                count -=1\n",
    "    return count\n",
    "  \n",
    "with open (r\"C:\\Users\\myavu\\OneDrive\\Desktop\\Questions\\2015\\1.txt\") as f:\n",
    "    lines = f.read().splitlines()\n",
    "\n",
    "floors(lines)"
   ]
  },
  {
   "cell_type": "markdown",
   "id": "productive-chair",
   "metadata": {},
   "source": [
    "--- Part Two ---\n",
    "\n",
    "Now, given the same instructions, find the position of the first character that causes him to enter the basement (floor -1). The first character in the instructions has position 1, the second character has position 2, and so on.\n",
    "\n",
    "For example:\n",
    "\n",
    ") causes him to enter the basement at character position 1.\n",
    "\n",
    "()()) causes him to enter the basement at character position 5.\n",
    "\n",
    "What is the position of the character that causes Santa to first enter the basement?"
   ]
  },
  {
   "cell_type": "code",
   "execution_count": 2,
   "id": "enclosed-tissue",
   "metadata": {},
   "outputs": [
    {
     "name": "stdout",
     "output_type": "stream",
     "text": [
      "1771\n"
     ]
    }
   ],
   "source": [
    "#PART II:\n",
    "def basement(x):\n",
    "    floorlevel ={}\n",
    "    base=[]\n",
    "    count =0\n",
    "    z=0\n",
    "    for line in lines:\n",
    "        floor= line.split()[0]\n",
    "        for symbol in floor:\n",
    "            for i in symbol:\n",
    "                z +=1\n",
    "                if i=='(':\n",
    "                    count +=1\n",
    "                else: \n",
    "                    count -=1\n",
    "            floorlevel[z] =count\n",
    "\n",
    "    for key,value in floorlevel.items():\n",
    "        if value==-1:\n",
    "            base.append(key)\n",
    "    print(base[0])\n",
    "            \n",
    "############            \n",
    "            \n",
    "            \n",
    "with open (r\"C:\\Users\\myavu\\OneDrive\\Desktop\\Questions\\2015\\1.txt\") as f:\n",
    "    lines = f.read().splitlines()\n",
    "#############\n",
    "\n",
    "basement(lines)"
   ]
  },
  {
   "cell_type": "code",
   "execution_count": null,
   "id": "vital-finger",
   "metadata": {},
   "outputs": [],
   "source": []
  },
  {
   "cell_type": "code",
   "execution_count": null,
   "id": "liked-revision",
   "metadata": {},
   "outputs": [],
   "source": []
  }
 ],
 "metadata": {
  "kernelspec": {
   "display_name": "Python 3",
   "language": "python",
   "name": "python3"
  },
  "language_info": {
   "codemirror_mode": {
    "name": "ipython",
    "version": 3
   },
   "file_extension": ".py",
   "mimetype": "text/x-python",
   "name": "python",
   "nbconvert_exporter": "python",
   "pygments_lexer": "ipython3",
   "version": "3.6.12"
  }
 },
 "nbformat": 4,
 "nbformat_minor": 5
}
