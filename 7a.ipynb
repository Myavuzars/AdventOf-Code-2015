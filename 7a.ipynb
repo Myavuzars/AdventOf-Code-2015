{
 "cells": [
  {
   "cell_type": "markdown",
   "id": "exclusive-vinyl",
   "metadata": {},
   "source": [
    "Day 7: Some Assembly Required ---\n",
    "This year, Santa brought little Bobby Tables a set of wires and bitwise logic gates! Unfortunately, little Bobby is a little under the recommended age range, and he needs help assembling the circuit.\n",
    "\n",
    "Each wire has an identifier (some lowercase letters) and can carry a 16-bit signal (a number from 0 to 65535). A signal is provided to each wire by a gate, another wire, or some specific value. Each wire can only get a signal from one source, but can provide its signal to multiple destinations. A gate provides no signal until all of its inputs have a signal.\n",
    "\n",
    "The included instructions booklet describes how to connect the parts together: x AND y -> z means to connect wires x and y to an AND gate, and then connect its output to wire z.\n",
    "\n",
    "For example:\n",
    "\n",
    "123 -> x means that the signal 123 is provided to wire x.\n",
    "x AND y -> z means that the bitwise AND of wire x and wire y is provided to wire z.\n",
    "p LSHIFT 2 -> q means that the value from wire p is left-shifted by 2 and then provided to wire q.\n",
    "NOT e -> f means that the bitwise complement of the value from wire e is provided to wire f.\n",
    "Other possible gates include OR (bitwise OR) and RSHIFT (right-shift). If, for some reason, you'd like to emulate the circuit instead, almost all programming languages (for example, C, JavaScript, or Python) provide operators for these gates.\n",
    "\n",
    "For example, here is a simple circuit:\n",
    "\n",
    "123 -> x\n",
    "\n",
    "456 -> y\n",
    "\n",
    "x AND y -> d\n",
    "\n",
    "x OR y -> e\n",
    "\n",
    "x LSHIFT 2 -> f\n",
    "\n",
    "y RSHIFT 2 -> g\n",
    "\n",
    "NOT x -> h\n",
    "\n",
    "NOT y -> i\n",
    "\n",
    "After it is run, these are the signals on the wires:\n",
    "\n",
    "d: 72\n",
    "\n",
    "e: 507\n",
    "\n",
    "f: 492\n",
    "\n",
    "g: 114\n",
    "\n",
    "h: 65412\n",
    "\n",
    "i: 65079\n",
    "\n",
    "x: 123\n",
    "\n",
    "y: 456\n",
    "\n",
    "In little Bobby's kit's instructions booklet (provided as your puzzle input), what signal is ultimately provided to wire a?"
   ]
  },
  {
   "cell_type": "code",
   "execution_count": 1,
   "id": "greenhouse-furniture",
   "metadata": {},
   "outputs": [
    {
     "name": "stdout",
     "output_type": "stream",
     "text": [
      "[1, 2, 4, 8, 16, 32, 64, 128, 256, 512, 1024, 2048, 4096, 8192, 16384, 32768]\n",
      "[32768, 16384, 8192, 4096, 2048, 1024, 512, 256, 128, 64, 32, 16, 8, 4, 2, 1]\n"
     ]
    }
   ],
   "source": [
    "import numpy as np\n",
    "logic = []\n",
    "for i in range(0,16):\n",
    "    logic.append(2**i)\n",
    "print(logic)\n",
    "logic =sorted(logic, reverse=True)\n",
    "print(logic)"
   ]
  },
  {
   "cell_type": "code",
   "execution_count": 2,
   "id": "interested-principal",
   "metadata": {},
   "outputs": [
    {
     "name": "stdout",
     "output_type": "stream",
     "text": [
      "[0 0 0 0 0 0 0 0 0 1 1 1 1 0 1 1]\n",
      "[0 0 0 0 0 0 0 1 1 1 0 0 1 0 0 0]\n"
     ]
    }
   ],
   "source": [
    "def bitwise(number):\n",
    "    if type(number)==int:\n",
    "        size=16\n",
    "        number_bit=np.zeros((size),dtype=np.int16)\n",
    "        i=0\n",
    "        for item in logic:\n",
    "            if number >= item:\n",
    "                number -=item      \n",
    "                number_bit[i]=1\n",
    "                i +=1\n",
    "            else:\n",
    "                i+=1\n",
    "        return((number_bit))\n",
    "x=bitwise(123)\n",
    "y=bitwise(456)\n",
    "print(x)\n",
    "print(y)"
   ]
  },
  {
   "cell_type": "code",
   "execution_count": 3,
   "id": "liable-malpractice",
   "metadata": {},
   "outputs": [],
   "source": [
    "def bit16():\n",
    "    size=16\n",
    "    num=np.zeros((size),dtype=np.int16)\n",
    "    return num\n",
    "def one():\n",
    "    num=bit16()\n",
    "    num[15]=1\n",
    "    return num\n",
    "    "
   ]
  },
  {
   "cell_type": "code",
   "execution_count": 4,
   "id": "periodic-manual",
   "metadata": {},
   "outputs": [
    {
     "name": "stdout",
     "output_type": "stream",
     "text": [
      "[0 0 0 0 0 0 0 0 0 0 0 0 0 0 0 1]\n"
     ]
    }
   ],
   "source": [
    "x= one()\n",
    "print(x)"
   ]
  },
  {
   "cell_type": "code",
   "execution_count": 5,
   "id": "legendary-parade",
   "metadata": {},
   "outputs": [],
   "source": [
    "def num_and (num1, num2):\n",
    "    size = 16\n",
    "    new_num = np.zeros((size),dtype=np.int16)\n",
    "    for i in range(0,size):\n",
    "        if (num1[i]==1) and (num2[i]==1):\n",
    "            new_num[i]=1\n",
    "    return new_num\n",
    "\n",
    "def num_or (num1, num2):\n",
    "    size=16\n",
    "    new_num=np.zeros((size),dtype=np.int16)\n",
    "    for i in range(0,size):\n",
    "        if num1[i]==1 or num2[i]==1:\n",
    "            new_num[i]=1\n",
    "    return new_num \n",
    "\n",
    "def num_not (num):\n",
    "    size=16\n",
    "    new_num=np.zeros((size),dtype=np.int16)\n",
    "    for i in range(0,size):\n",
    "        if num[i]==0:\n",
    "            new_num[i]=1\n",
    "    return new_num "
   ]
  },
  {
   "cell_type": "code",
   "execution_count": 6,
   "id": "yellow-staff",
   "metadata": {},
   "outputs": [],
   "source": [
    "def r_shift(num,shift):\n",
    "    size=16\n",
    "    new_num=np.zeros((size),dtype=np.int16)\n",
    "    for i in range(shift,size-shift):\n",
    "        new_num[i+shift]=num[i]\n",
    "    return new_num\n",
    "\n",
    "def l_shift(num, shift):\n",
    "    size=16\n",
    "    new_num=np.zeros((size),dtype=np.int16)\n",
    "    for i in range(shift,size):\n",
    "        new_num[i-shift]=num[i]\n",
    "    return new_num\n",
    "        "
   ]
  },
  {
   "cell_type": "code",
   "execution_count": 7,
   "id": "secure-england",
   "metadata": {},
   "outputs": [
    {
     "name": "stdout",
     "output_type": "stream",
     "text": [
      "['x', 'AND', 'y', '->', 'd']\n",
      "['x', 'OR', 'y', '->', 'e']\n",
      "['456', '->', 'y']\n",
      "['x', 'LSHIFT', '2', '->', 'f']\n",
      "['y', 'RSHIFT', '2', '->', 'g']\n",
      "['NOT', 'x', '->', 'h']\n",
      "['NOT', 'y', '->', 'i']\n",
      "['123', '->', 'x']\n"
     ]
    }
   ],
   "source": [
    "with open(r\"C:\\Users\\myavu\\OneDrive\\Desktop\\Questions\\2015\\7a.txt\") as f:\n",
    "    lines =f. read().splitlines()\n",
    "for line in lines:\n",
    "    ff=line.split(' ')\n",
    "    print(ff)"
   ]
  },
  {
   "cell_type": "code",
   "execution_count": 8,
   "id": "conditional-balloon",
   "metadata": {},
   "outputs": [],
   "source": [
    "def parsing(line):\n",
    "    command_table= [\"0\", \"0\", \"0\", \"0\"]\n",
    "    line= line.split(\" \")\n",
    "    if len(line)== 3:\n",
    "        #mylist[line[2]]=line[0]\n",
    "        command_table[0]=\"bitwise\"\n",
    "        command_table[1]=line[0]\n",
    "        command_table[2]=line[2]            \n",
    "    elif len(line)==4:\n",
    "        #mylist[line[3]]=0\n",
    "        command_table[0]=line[0]\n",
    "        command_table[1]=line[1]\n",
    "        command_table[2]=line[3]\n",
    "    elif len(line)==5:\n",
    "        #mylist[line[4]]=0\n",
    "        command_table[0]=line[1]\n",
    "        command_table[1]=line[0]\n",
    "        command_table[2]=line[2]\n",
    "        command_table[3]=line[4]\n",
    "    return command_table "
   ]
  },
  {
   "cell_type": "code",
   "execution_count": 9,
   "id": "pressing-supplier",
   "metadata": {},
   "outputs": [
    {
     "name": "stdout",
     "output_type": "stream",
     "text": [
      "['AND', 'x', 'y', 'd']\n",
      "['OR', 'x', 'y', 'e']\n",
      "['bitwise', '456', 'y', '0']\n",
      "['LSHIFT', 'x', '2', 'f']\n",
      "['RSHIFT', 'y', '2', 'g']\n",
      "['NOT', 'x', 'h', '0']\n",
      "['NOT', 'y', 'i', '0']\n",
      "['bitwise', '123', 'x', '0']\n"
     ]
    }
   ],
   "source": [
    "for line in lines:\n",
    "    command=parsing (line)\n",
    "    print(command)\n"
   ]
  },
  {
   "cell_type": "code",
   "execution_count": 10,
   "id": "unavailable-youth",
   "metadata": {},
   "outputs": [
    {
     "name": "stdout",
     "output_type": "stream",
     "text": [
      "8\n"
     ]
    }
   ],
   "source": [
    "lines_count=0\n",
    "for line in lines:\n",
    "    lines_count+=1\n",
    "    command=parsing (line)\n",
    "print(lines_count)"
   ]
  },
  {
   "cell_type": "code",
   "execution_count": 11,
   "id": "premium-rugby",
   "metadata": {},
   "outputs": [],
   "source": [
    "def find_firstnumbers(lines):\n",
    "    my_dict={}\n",
    "    for line in lines:        \n",
    "        command=parsing(line)\n",
    "        if command[0]==\"bitwise\":\n",
    "            try:         \n",
    "                my_dict[command[2]]=bitwise(int(command[1]))\n",
    "            except:                              \n",
    "                my_dict[command[1]]=bit16()\n",
    "                my_dict[command[2]]=bit16()\n",
    "        elif command[0]==\"AND\":\n",
    "            if command[1]=='1':\n",
    "                my_dict[command[1]]=one()\n",
    "                my_dict[command[3]]=bit16()\n",
    "            else:           \n",
    "                my_dict[command[3]]=bit16()\n",
    "        elif command[0]==\"OR\":\n",
    "            my_dict[command[3]]=bit16()\n",
    "        elif command[0]==\"NOT\":\n",
    "            my_dict[command[2]]=bit16()\n",
    "        elif command[0]==\"LSHIFT\":\n",
    "            my_dict[command[3]]=bit16()\n",
    "        elif command[0]==\"RSHIFT\":\n",
    "            my_dict[command[3]]=bit16()\n",
    "        elif command[0]==\"LSHIFT\":\n",
    "            my_dict[command[2]]=bit16()\n",
    "    #print(my_dict['ge'])\n",
    "        \n",
    "    return my_dict"
   ]
  },
  {
   "cell_type": "code",
   "execution_count": 12,
   "id": "absolute-beginning",
   "metadata": {
    "scrolled": false
   },
   "outputs": [],
   "source": [
    "#find_firstnumbers(lines)"
   ]
  },
  {
   "cell_type": "code",
   "execution_count": 13,
   "id": "limited-elevation",
   "metadata": {},
   "outputs": [],
   "source": [
    "def find_numbers(lines):\n",
    "    new_dict=find_firstnumbers(lines)\n",
    "    for i in range(lines_count):\n",
    "        for line in lines:\n",
    "            command=parsing(line)\n",
    "            if command[0]==\"AND\":\n",
    "                new_dict[command[3]]=num_and(new_dict[command[1]], new_dict[command[2]])\n",
    "            elif command[0]==\"OR\":\n",
    "                new_dict[command[3]]=num_or(new_dict[command[1]], new_dict[command[2]])\n",
    "            elif command[0]==\"LSHIFT\":\n",
    "                new_dict[command[3]]=l_shift(new_dict[command[1]], int(command[2]))\n",
    "            elif command[0]==\"RSHIFT\":\n",
    "                new_dict[command[3]]=r_shift(new_dict[command[1]], int(command[2]))\n",
    "            elif command[0]==\"NOT\":\n",
    "                new_dict[command[2]]=num_not(new_dict[command[1]])\n",
    "    return new_dict"
   ]
  },
  {
   "cell_type": "code",
   "execution_count": 14,
   "id": "colored-spine",
   "metadata": {},
   "outputs": [
    {
     "data": {
      "text/plain": [
       "{'d': array([0, 0, 0, 0, 0, 0, 0, 0, 0, 1, 0, 0, 1, 0, 0, 0], dtype=int16),\n",
       " 'e': array([0, 0, 0, 0, 0, 0, 0, 1, 1, 1, 1, 1, 1, 0, 1, 1], dtype=int16),\n",
       " 'y': array([0, 0, 0, 0, 0, 0, 0, 1, 1, 1, 0, 0, 1, 0, 0, 0], dtype=int16),\n",
       " 'f': array([0, 0, 0, 0, 0, 0, 0, 1, 1, 1, 1, 0, 1, 1, 0, 0], dtype=int16),\n",
       " 'g': array([0, 0, 0, 0, 0, 0, 0, 0, 0, 1, 1, 1, 0, 0, 1, 0], dtype=int16),\n",
       " 'h': array([1, 1, 1, 1, 1, 1, 1, 1, 1, 0, 0, 0, 0, 1, 0, 0], dtype=int16),\n",
       " 'i': array([1, 1, 1, 1, 1, 1, 1, 0, 0, 0, 1, 1, 0, 1, 1, 1], dtype=int16),\n",
       " 'x': array([0, 0, 0, 0, 0, 0, 0, 0, 0, 1, 1, 1, 1, 0, 1, 1], dtype=int16)}"
      ]
     },
     "execution_count": 14,
     "metadata": {},
     "output_type": "execute_result"
    }
   ],
   "source": [
    "numbers= find_numbers(lines)\n",
    "find_numbers(lines)"
   ]
  },
  {
   "cell_type": "code",
   "execution_count": 15,
   "id": "center-simulation",
   "metadata": {},
   "outputs": [],
   "source": [
    "def converter(numbers):\n",
    "    values=numbers.copy()\n",
    "    for key, value in dict.items(numbers):\n",
    "        val=0\n",
    "        number =np.flip(value) \n",
    "        for i in range(0,16):\n",
    "            val += (2**i) * number[i]\n",
    "        values[key]=val    \n",
    "    return values"
   ]
  },
  {
   "cell_type": "code",
   "execution_count": 16,
   "id": "pleasant-pension",
   "metadata": {},
   "outputs": [
    {
     "data": {
      "text/plain": [
       "{'d': 72,\n",
       " 'e': 507,\n",
       " 'y': 456,\n",
       " 'f': 492,\n",
       " 'g': 114,\n",
       " 'h': 65412,\n",
       " 'i': 65079,\n",
       " 'x': 123}"
      ]
     },
     "execution_count": 16,
     "metadata": {},
     "output_type": "execute_result"
    }
   ],
   "source": [
    "converter(numbers)"
   ]
  },
  {
   "cell_type": "code",
   "execution_count": null,
   "id": "spread-canadian",
   "metadata": {},
   "outputs": [],
   "source": []
  },
  {
   "cell_type": "code",
   "execution_count": null,
   "id": "cultural-proxy",
   "metadata": {},
   "outputs": [],
   "source": []
  },
  {
   "cell_type": "code",
   "execution_count": null,
   "id": "nuclear-january",
   "metadata": {},
   "outputs": [],
   "source": []
  }
 ],
 "metadata": {
  "kernelspec": {
   "display_name": "Python 3",
   "language": "python",
   "name": "python3"
  },
  "language_info": {
   "codemirror_mode": {
    "name": "ipython",
    "version": 3
   },
   "file_extension": ".py",
   "mimetype": "text/x-python",
   "name": "python",
   "nbconvert_exporter": "python",
   "pygments_lexer": "ipython3",
   "version": "3.6.12"
  }
 },
 "nbformat": 4,
 "nbformat_minor": 5
}
