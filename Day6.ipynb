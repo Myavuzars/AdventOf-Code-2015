{
 "cells": [
  {
   "cell_type": "markdown",
   "id": "desirable-depression",
   "metadata": {},
   "source": [
    "--- Day 6: Probably a Fire Hazard ---\n",
    "\n",
    "Because your neighbors keep defeating you in the holiday house decorating contest year after year, you've decided to deploy one million lights in a 1000x1000 grid.\n",
    "\n",
    "Furthermore, because you've been especially nice this year, Santa has mailed you instructions on how to display the ideal lighting configuration.\n",
    "\n",
    "Lights in your grid are numbered from 0 to 999 in each direction; the lights at each corner are at 0,0, 0,999, 999,999, and 999,0. The instructions include whether to turn on, turn off, or toggle various inclusive ranges given as coordinate pairs. Each coordinate pair represents opposite corners of a rectangle, inclusive; a coordinate pair like 0,0 through 2,2 therefore refers to 9 lights in a 3x3 square. The lights all start turned off.\n",
    "\n",
    "To defeat your neighbors this year, all you have to do is set up your lights by doing the instructions Santa sent you in order.\n",
    "\n",
    "For example:\n",
    "\n",
    "turn on 0,0 through 999,999 would turn on (or leave on) every light.\n",
    "\n",
    "toggle 0,0 through 999,0 would toggle the first line of 1000 lights, turning off the ones that were on, and turning on the ones that were off.\n",
    "\n",
    "turn off 499,499 through 500,500 would turn off (or leave off) the middle four lights.\n",
    "\n",
    "After following the instructions, how many lights are lit?\n"
   ]
  },
  {
   "cell_type": "code",
   "execution_count": 1,
   "id": "blocked-ratio",
   "metadata": {},
   "outputs": [
    {
     "data": {
      "text/plain": [
       "569999"
      ]
     },
     "execution_count": 1,
     "metadata": {},
     "output_type": "execute_result"
    }
   ],
   "source": [
    "#6A.\n",
    "with open(r\"C:\\Users\\myavu\\OneDrive\\Desktop\\Questions\\2015\\6.txt\")as f:\n",
    "    lines =f.read().splitlines()\n",
    "\n",
    "#############################################  \n",
    "\n",
    "def parse_lines( line ):\n",
    "    command =[0, [0,0], [0,0]]\n",
    "    line = line.split(' ')\n",
    "    if line[0]==\"toggle\":\n",
    "        command[0]=\"1\"\n",
    "        command[1]=line[1].split(',')\n",
    "        command[2]=line[3].split(',')\n",
    "    elif line[0]==\"turn\":\n",
    "        if   line[1]==\"on\":\n",
    "            command[0]=\"2\"\n",
    "            command[1]=line[2].split(',')\n",
    "            command[2]=line[4].split(',')\n",
    "        elif line[1]==\"off\":\n",
    "            command[0]=\"3\"\n",
    "            command[1]=line[2].split(',')\n",
    "            command[2]=line[4].split(',')\n",
    "    return command\n",
    "\n",
    "# for line in lines:\n",
    "#     x=parse_lines(line)\n",
    "#     print(x)\n",
    "##############################################\n",
    "def toggle (begin, end):\n",
    "    for i in range(int(begin[0]),int(end[0])+1):\n",
    "        for j in range(int(begin[1]), int(end[1])+1):\n",
    "            if lights[i,j]:\n",
    "                lights[i,j]=False\n",
    "            else:\n",
    "                lights[i,j]=True\n",
    "                \n",
    "def turn_on (begin, end):\n",
    "    for i in range(int(begin[0]),int(end[0])+1):\n",
    "        for j in range(int(begin[1]), int(end[1])+1):\n",
    "            lights[i,j]=True\n",
    "\n",
    "def turn_off (begin, end):\n",
    "    for i in range(int(begin[0]),int(end[0])+1):\n",
    "        for j in range(int(begin[1]), int(end[1])+1):\n",
    "            lights[i,j]=False\n",
    "\n",
    "            \n",
    "############################################            \n",
    "import numpy as np\n",
    "size =1000\n",
    "lights= np.zeros((size,size), dtype=bool)\n",
    "\n",
    "def lights_countA(lines):    \n",
    "    for line in lines:\n",
    "        status = parse_lines(line)\n",
    "        if status[0]==\"1\":\n",
    "            toggle(status[1], status[2])\n",
    "        elif status[0]==\"2\":\n",
    "            turn_on(status[1], status[2])\n",
    "        elif status[0]==\"3\":\n",
    "            turn_off(status[1], status[2])\n",
    "    count=0\n",
    "    for i in range(0, size):\n",
    "        for j in range(0, size):\n",
    "            if lights[i,j]:\n",
    "                count +=lights[i,j]\n",
    "                \n",
    "    return count            \n",
    "            \n",
    "lights_countA(lines)\n"
   ]
  },
  {
   "cell_type": "markdown",
   "id": "acoustic-browse",
   "metadata": {},
   "source": [
    "--- Part Two ---\n",
    "\n",
    "The next year, to speed up the process, Santa creates a robot version of himself, Robo-Santa, to deliver presents with him.\n",
    "\n",
    "Santa and Robo-Santa start at the same location (delivering two presents to the same starting house), then take turns moving based on instructions from the elf, who is eggnoggedly reading from the same script as the previous year.\n",
    "\n",
    "This year, how many houses receive at least one present?\n",
    "\n",
    "For example:\n",
    "\n",
    "^v delivers presents to 3 houses, because Santa goes north, and then Robo-Santa goes south.\n",
    "\n",
    "^>v< now delivers presents to 3 houses, and Santa and Robo-Santa end up back where they started.\n",
    "\n",
    "^v^v^v^v^v now delivers presents to 11 houses, with Santa going one direction and Robo-Santa going the other.\n"
   ]
  },
  {
   "cell_type": "code",
   "execution_count": 2,
   "id": "increased-indian",
   "metadata": {},
   "outputs": [
    {
     "data": {
      "text/plain": [
       "17836115"
      ]
     },
     "execution_count": 2,
     "metadata": {},
     "output_type": "execute_result"
    }
   ],
   "source": [
    "#6B.\n",
    "#Part II\n",
    "\n",
    "import numpy as np\n",
    "\n",
    "size =1000\n",
    "lights= np.zeros((size,size), dtype=np.int8)\n",
    "\n",
    "with open(r\"C:\\Users\\myavu\\OneDrive\\Desktop\\Questions\\2015\\6.txt\")as f:\n",
    "    lines =f.read().splitlines()\n",
    "\n",
    "#############################################  \n",
    "\n",
    "def toggle2 (begin, end):\n",
    "    for i in range(int(begin[0]),int(end[0])+1):\n",
    "        for j in range(int(begin[1]), int(end[1])+1):\n",
    "            lights[i,j]+=2\n",
    "                 \n",
    "                \n",
    "def turn_on2 (begin, end):\n",
    "    for i in range(int(begin[0]),int(end[0])+1):\n",
    "        for j in range(int(begin[1]), int(end[1])+1):\n",
    "            lights[i,j]+=1\n",
    "\n",
    "                 \n",
    "def turn_off2 (begin, end):\n",
    "    for i in range(int(begin[0]),int(end[0])+1):\n",
    "        for j in range(int(begin[1]), int(end[1])+1):\n",
    "            if lights[i,j]==0:\n",
    "                lights[i,j]=0\n",
    "            else:\n",
    "                lights[i,j] -=1\n",
    "\n",
    "\n",
    "\n",
    "def lights_countB(lines):    \n",
    "    for line in lines:\n",
    "        status = parse_lines(line)\n",
    "        if status[0]==\"1\":\n",
    "            toggle2(status[1], status[2])\n",
    "        elif status[0]==\"2\":\n",
    "            turn_on2(status[1], status[2])\n",
    "        elif status[0]==\"3\":\n",
    "            turn_off2(status[1], status[2])\n",
    "    count=0\n",
    "    for i in range(0, size):\n",
    "        for j in range(0, size):\n",
    "            if lights[i,j]:\n",
    "                count +=lights[i,j]\n",
    "                \n",
    "    return count            \n",
    "       \n",
    "lights_countB(lines)"
   ]
  },
  {
   "cell_type": "code",
   "execution_count": null,
   "id": "given-reward",
   "metadata": {},
   "outputs": [],
   "source": []
  },
  {
   "cell_type": "code",
   "execution_count": null,
   "id": "decimal-ratio",
   "metadata": {},
   "outputs": [],
   "source": []
  },
  {
   "cell_type": "code",
   "execution_count": null,
   "id": "meaning-world",
   "metadata": {},
   "outputs": [],
   "source": []
  },
  {
   "cell_type": "code",
   "execution_count": null,
   "id": "antique-privilege",
   "metadata": {},
   "outputs": [],
   "source": []
  }
 ],
 "metadata": {
  "kernelspec": {
   "display_name": "Python 3",
   "language": "python",
   "name": "python3"
  },
  "language_info": {
   "codemirror_mode": {
    "name": "ipython",
    "version": 3
   },
   "file_extension": ".py",
   "mimetype": "text/x-python",
   "name": "python",
   "nbconvert_exporter": "python",
   "pygments_lexer": "ipython3",
   "version": "3.6.12"
  }
 },
 "nbformat": 4,
 "nbformat_minor": 5
}
